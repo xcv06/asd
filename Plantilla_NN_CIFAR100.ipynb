{
  "nbformat": 4,
  "nbformat_minor": 0,
  "metadata": {
    "colab": {
      "name": "Plantilla_NN_CIFAR100",
      "provenance": [],
      "include_colab_link": true
    },
    "kernelspec": {
      "name": "python3",
      "display_name": "Python 3"
    },
    "language_info": {
      "name": "python"
    },
    "accelerator": "GPU"
  },
  "cells": [
    {
      "cell_type": "markdown",
      "metadata": {
        "id": "view-in-github",
        "colab_type": "text"
      },
      "source": [
        "<a href=\"https://colab.research.google.com/github/fridaruh/Curso_Intro_AI_Crehana/blob/master/Plantilla_NN_CIFAR100.ipynb\" target=\"_parent\"><img src=\"https://colab.research.google.com/assets/colab-badge.svg\" alt=\"Open In Colab\"/></a>"
      ]
    },
    {
      "cell_type": "markdown",
      "metadata": {
        "id": "UMrlHeCBNkJ_"
      },
      "source": [
        "# Importando librerías"
      ]
    },
    {
      "cell_type": "code",
      "metadata": {
        "id": "TAsGPk9aNImT"
      },
      "source": [
        ""
      ],
      "execution_count": null,
      "outputs": []
    },
    {
      "cell_type": "markdown",
      "metadata": {
        "id": "cir4w5Y8OE6u"
      },
      "source": [
        "# Carga de Datos"
      ]
    },
    {
      "cell_type": "markdown",
      "metadata": {
        "id": "UEtDo0VDyLMt"
      },
      "source": [
        "Importamos las librerías que utilziaremos para cargar los datos para la red neuronal:"
      ]
    },
    {
      "cell_type": "code",
      "metadata": {
        "id": "fIPzj3uuyKXr"
      },
      "source": [
        "\n"
      ],
      "execution_count": null,
      "outputs": []
    },
    {
      "cell_type": "markdown",
      "metadata": {
        "id": "Q_hcvmLINuhF"
      },
      "source": [
        "Corre la siguiente linea para cargar tu dataset"
      ]
    },
    {
      "cell_type": "code",
      "metadata": {
        "id": "Qdw6fXueNn9x"
      },
      "source": [
        "(train_data, train_labels), (test_data, test_labels) = cifar10.load_data()"
      ],
      "execution_count": null,
      "outputs": []
    },
    {
      "cell_type": "markdown",
      "metadata": {
        "id": "jnFR0ELfNzdX"
      },
      "source": [
        "Revisa las dimensiones de tus datos"
      ]
    },
    {
      "cell_type": "code",
      "metadata": {
        "id": "t6HIYi9oOUNX"
      },
      "source": [
        ""
      ],
      "execution_count": null,
      "outputs": []
    },
    {
      "cell_type": "markdown",
      "metadata": {
        "id": "RVGL5K4GNr29"
      },
      "source": [
        "Abre el primer registro de train"
      ]
    },
    {
      "cell_type": "code",
      "metadata": {
        "id": "cYi6ZplLOXc1"
      },
      "source": [
        ""
      ],
      "execution_count": null,
      "outputs": []
    },
    {
      "cell_type": "markdown",
      "metadata": {
        "id": "izrYrtdkNnQp"
      },
      "source": [
        "Visualiza la primer imagen del dataset"
      ]
    },
    {
      "cell_type": "code",
      "metadata": {
        "id": "E--kFy-0OdTD"
      },
      "source": [
        ""
      ],
      "execution_count": null,
      "outputs": []
    },
    {
      "cell_type": "code",
      "metadata": {
        "id": "So39rwCWOqnW"
      },
      "source": [
        ""
      ],
      "execution_count": null,
      "outputs": []
    },
    {
      "cell_type": "markdown",
      "metadata": {
        "id": "iRcQmSEEPGnt"
      },
      "source": [
        "# Modelo"
      ]
    },
    {
      "cell_type": "markdown",
      "metadata": {
        "id": "5az-FyQgNec7"
      },
      "source": [
        "Crea tu red neuronal con una forma de 32*32 px"
      ]
    },
    {
      "cell_type": "code",
      "metadata": {
        "id": "O4f8FPuaOquR"
      },
      "source": [
        ""
      ],
      "execution_count": null,
      "outputs": []
    },
    {
      "cell_type": "code",
      "metadata": {
        "id": "byDAbuTPOq2F"
      },
      "source": [
        ""
      ],
      "execution_count": null,
      "outputs": []
    },
    {
      "cell_type": "markdown",
      "metadata": {
        "id": "x7qvgtuHQhJv"
      },
      "source": [
        "# Transformación de datos"
      ]
    },
    {
      "cell_type": "markdown",
      "metadata": {
        "id": "8Y4bW00xNTJV"
      },
      "source": [
        "Ejecuta la carga de datos para el train y test"
      ]
    },
    {
      "cell_type": "code",
      "metadata": {
        "id": "5W8wXfQiKwn2"
      },
      "source": [
        "(x_train, y_train), (x_test, y_test) = cifar10.load_data()"
      ],
      "execution_count": null,
      "outputs": []
    },
    {
      "cell_type": "markdown",
      "metadata": {
        "id": "2BhrmSCeNXDm"
      },
      "source": [
        "Revisa las dimensiones de los datos"
      ]
    },
    {
      "cell_type": "code",
      "metadata": {
        "id": "Vi0E7O6ULj0W"
      },
      "source": [
        ""
      ],
      "execution_count": null,
      "outputs": []
    },
    {
      "cell_type": "markdown",
      "metadata": {
        "id": "8VO6IhgBNKUY"
      },
      "source": [
        "Haz un reshape para x_test y x_train\n",
        "\n",
        "\n"
      ]
    },
    {
      "cell_type": "code",
      "metadata": {
        "id": "QIZuINz3QfKP"
      },
      "source": [
        ""
      ],
      "execution_count": null,
      "outputs": []
    },
    {
      "cell_type": "code",
      "metadata": {
        "id": "bYPJXkSly_w3"
      },
      "source": [
        ""
      ],
      "execution_count": null,
      "outputs": []
    },
    {
      "cell_type": "markdown",
      "metadata": {
        "id": "P1XlSCv-NGck"
      },
      "source": [
        "Importa la librería \"to_categorical\" de tensorflow"
      ]
    },
    {
      "cell_type": "code",
      "metadata": {
        "id": "6sTCJAsOzH8d"
      },
      "source": [
        ""
      ],
      "execution_count": null,
      "outputs": []
    },
    {
      "cell_type": "markdown",
      "metadata": {
        "id": "apc62nDHNC55"
      },
      "source": [
        "Convierte a categoricas las variables de y_train y y_test"
      ]
    },
    {
      "cell_type": "code",
      "metadata": {
        "id": "EHs-W4jYRGFd"
      },
      "source": [
        ""
      ],
      "execution_count": null,
      "outputs": []
    },
    {
      "cell_type": "markdown",
      "metadata": {
        "id": "AXAyIg43MVu0"
      },
      "source": [
        "Imprime el primer registro de las etiquetas de train\n",
        "Considera que es un vector [x,x]"
      ]
    },
    {
      "cell_type": "code",
      "metadata": {
        "id": "6GeH8gHPRZDd"
      },
      "source": [
        ""
      ],
      "execution_count": null,
      "outputs": []
    },
    {
      "cell_type": "code",
      "metadata": {
        "id": "leTw4woJMmBz"
      },
      "source": [
        ""
      ],
      "execution_count": null,
      "outputs": []
    },
    {
      "cell_type": "markdown",
      "metadata": {
        "id": "aCx6FHK5RzhT"
      },
      "source": [
        "# Entrenamiento"
      ]
    },
    {
      "cell_type": "markdown",
      "metadata": {
        "id": "bERBdh9JzToQ"
      },
      "source": [
        "Iteraciones de las épocas"
      ]
    },
    {
      "cell_type": "code",
      "metadata": {
        "id": "qZLxOUukRtTF"
      },
      "source": [
        ""
      ],
      "execution_count": null,
      "outputs": []
    },
    {
      "cell_type": "markdown",
      "metadata": {
        "id": "rynTRzB6SMgs"
      },
      "source": [
        "# Evaluación"
      ]
    },
    {
      "cell_type": "markdown",
      "metadata": {
        "id": "IQIaazvJM1lM"
      },
      "source": [
        "Evalua el set de train y el set de test"
      ]
    },
    {
      "cell_type": "code",
      "metadata": {
        "id": "JCnpuP4fSGmQ"
      },
      "source": [
        ""
      ],
      "execution_count": null,
      "outputs": []
    },
    {
      "cell_type": "code",
      "metadata": {
        "id": "LPYfHm4QSR9w"
      },
      "source": [
        ""
      ],
      "execution_count": null,
      "outputs": []
    }
  ]
}